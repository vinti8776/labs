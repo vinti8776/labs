{
  "nbformat": 4,
  "nbformat_minor": 0,
  "metadata": {
    "colab": {
      "provenance": []
    },
    "kernelspec": {
      "name": "python3",
      "display_name": "Python 3"
    },
    "language_info": {
      "name": "python"
    }
  },
  "cells": [
    {
      "cell_type": "markdown",
      "source": [
        "**Question 1**"
      ],
      "metadata": {
        "id": "Viqi4Tq64Rpj"
      }
    },
    {
      "cell_type": "code",
      "execution_count": 26,
      "metadata": {
        "id": "ZtmW5Zzi0EgT"
      },
      "outputs": [],
      "source": [
        "import networkx as nx\n",
        "import sys\n",
        "import numpy as np"
      ]
    },
    {
      "cell_type": "markdown",
      "source": [
        "**Creating Graph**"
      ],
      "metadata": {
        "id": "MuOxPmiT0NSM"
      }
    },
    {
      "cell_type": "code",
      "source": [
        "G1 = nx.Graph()\n",
        "nodes = ['A', 'B', 'C', 'D', 'E', 'F', 'G', 'H']\n",
        "edges = [('A', 'B'), ('A', 'C'), ('B', 'C'), ('C', 'D'), ('D', 'E'), ('D', 'F'), ('F', 'G'), ('F', 'H'), ('G', 'H')]\n",
        "G1.add_nodes_from(nodes)\n",
        "G1.add_edges_from(edges)"
      ],
      "metadata": {
        "id": "wq3GBe-40QBK"
      },
      "execution_count": 55,
      "outputs": []
    },
    {
      "cell_type": "code",
      "source": [
        "nx.draw(G1, with_labels = True)"
      ],
      "metadata": {
        "colab": {
          "base_uri": "https://localhost:8080/",
          "height": 516
        },
        "id": "sgg38BZx0Wf9",
        "outputId": "6e0b8fd1-b624-409e-d93e-b849fb1e0dda"
      },
      "execution_count": 56,
      "outputs": [
        {
          "output_type": "display_data",
          "data": {
            "text/plain": [
              "<Figure size 640x480 with 1 Axes>"
            ],
            "image/png": "[encoded data removed]"
          },
          "metadata": {}
        }
      ]
    },
    {
      "cell_type": "markdown",
      "source": [
        "**Adjacency Matrix, Adjacency List, and Incidence Matrix.**\n"
      ],
      "metadata": {
        "id": "8lJiIHsF2PBd"
      }
    },
    {
      "cell_type": "code",
      "source": [
        "A1= nx.adjacency_matrix(G1).todense()\n",
        "A1"
      ],
      "metadata": {
        "colab": {
          "base_uri": "https://localhost:8080/"
        },
        "id": "Y6BCpPV52WBN",
        "outputId": "186baf5f-3c5c-4436-afb0-3a596d66be9c"
      },
      "execution_count": 57,
      "outputs": [
        {
          "output_type": "execute_result",
          "data": {
            "text/plain": [
              "array([[0, 1, 1, 0, 0, 0, 0, 0],\n",
              "       [1, 0, 1, 0, 0, 0, 0, 0],\n",
              "       [1, 1, 0, 1, 0, 0, 0, 0],\n",
              "       [0, 0, 1, 0, 1, 1, 0, 0],\n",
              "       [0, 0, 0, 1, 0, 0, 0, 0],\n",
              "       [0, 0, 0, 1, 0, 0, 1, 1],\n",
              "       [0, 0, 0, 0, 0, 1, 0, 1],\n",
              "       [0, 0, 0, 0, 0, 1, 1, 0]])"
            ]
          },
          "metadata": {},
          "execution_count": 57
        }
      ]
    },
    {
      "cell_type": "code",
      "source": [
        "adjList1 = list(nx.generate_adjlist(G1))\n",
        "for line in adjList1:\n",
        "    print(line)"
      ],
      "metadata": {
        "colab": {
          "base_uri": "https://localhost:8080/"
        },
        "id": "o3gSqhMP3A0D",
        "outputId": "268375fc-b65a-49ce-b449-2611d8606c1f"
      },
      "execution_count": 58,
      "outputs": [
        {
          "output_type": "stream",
          "name": "stdout",
          "text": [
            "A B C\n",
            "B C\n",
            "C D\n",
            "D E F\n",
            "E\n",
            "F G H\n",
            "G H\n",
            "H\n"
          ]
        }
      ]
    },
    {
      "cell_type": "code",
      "source": [
        "I1=nx.incidence_matrix(G1).todense()\n",
        "I1"
      ],
      "metadata": {
        "colab": {
          "base_uri": "https://localhost:8080/"
        },
        "id": "kOnma0ea3Mmb",
        "outputId": "cdd2b9f6-b1d7-4053-db42-3766426c749c"
      },
      "execution_count": 59,
      "outputs": [
        {
          "output_type": "execute_result",
          "data": {
            "text/plain": [
              "array([[1., 1., 0., 0., 0., 0., 0., 0., 0.],\n",
              "       [1., 0., 1., 0., 0., 0., 0., 0., 0.],\n",
              "       [0., 1., 1., 1., 0., 0., 0., 0., 0.],\n",
              "       [0., 0., 0., 1., 1., 1., 0., 0., 0.],\n",
              "       [0., 0., 0., 0., 1., 0., 0., 0., 0.],\n",
              "       [0., 0., 0., 0., 0., 1., 1., 1., 0.],\n",
              "       [0., 0., 0., 0., 0., 0., 1., 0., 1.],\n",
              "       [0., 0., 0., 0., 0., 0., 0., 1., 1.]])"
            ]
          },
          "metadata": {},
          "execution_count": 59
        }
      ]
    },
    {
      "cell_type": "markdown",
      "source": [
        "**Calculating the Memory Consumption of different representations**\n"
      ],
      "metadata": {
        "id": "MGnipz_l33Bg"
      }
    },
    {
      "cell_type": "code",
      "source": [
        "A1.size*A1.itemsize"
      ],
      "metadata": {
        "colab": {
          "base_uri": "https://localhost:8080/"
        },
        "id": "edlFX9Vu35Cv",
        "outputId": "6133cbcd-b518-47ed-eed3-5324b80880ee"
      },
      "execution_count": 60,
      "outputs": [
        {
          "output_type": "execute_result",
          "data": {
            "text/plain": [
              "512"
            ]
          },
          "metadata": {},
          "execution_count": 60
        }
      ]
    },
    {
      "cell_type": "code",
      "source": [
        "adjList1 = list(nx.generate_adjlist(G1))\n",
        "\n",
        "adjListSize = 0\n",
        "for line in adjList1:\n",
        "    adjListSize += sys.getsizeof(line)\n",
        "\n",
        "adjListSize"
      ],
      "metadata": {
        "colab": {
          "base_uri": "https://localhost:8080/"
        },
        "id": "U3Dpr4IN39DA",
        "outputId": "fc008653-c761-449d-9ef5-8bb64385e9df"
      },
      "execution_count": 61,
      "outputs": [
        {
          "output_type": "execute_result",
          "data": {
            "text/plain": [
              "418"
            ]
          },
          "metadata": {},
          "execution_count": 61
        }
      ]
    },
    {
      "cell_type": "code",
      "source": [
        "I1.size*I1.itemsize"
      ],
      "metadata": {
        "colab": {
          "base_uri": "https://localhost:8080/"
        },
        "id": "4fTA-SYV3_-H",
        "outputId": "eafdcfa0-4555-483a-fe40-062b69aaebc1"
      },
      "execution_count": 62,
      "outputs": [
        {
          "output_type": "execute_result",
          "data": {
            "text/plain": [
              "576"
            ]
          },
          "metadata": {},
          "execution_count": 62
        }
      ]
    },
    {
      "cell_type": "markdown",
      "source": [
        "**Question 2**"
      ],
      "metadata": {
        "id": "hpaOI94t4ehO"
      }
    },
    {
      "cell_type": "code",
      "source": [
        "D = [G1.degree[node] for node in G1.nodes()]\n",
        "D = np.diag(D)\n",
        "D"
      ],
      "metadata": {
        "colab": {
          "base_uri": "https://localhost:8080/"
        },
        "id": "nCu2CCeRKt1Y",
        "outputId": "2904fdea-5df7-4b4a-d27d-22c90657ee77"
      },
      "execution_count": 63,
      "outputs": [
        {
          "output_type": "execute_result",
          "data": {
            "text/plain": [
              "array([[2, 0, 0, 0, 0, 0, 0, 0],\n",
              "       [0, 2, 0, 0, 0, 0, 0, 0],\n",
              "       [0, 0, 3, 0, 0, 0, 0, 0],\n",
              "       [0, 0, 0, 3, 0, 0, 0, 0],\n",
              "       [0, 0, 0, 0, 1, 0, 0, 0],\n",
              "       [0, 0, 0, 0, 0, 3, 0, 0],\n",
              "       [0, 0, 0, 0, 0, 0, 2, 0],\n",
              "       [0, 0, 0, 0, 0, 0, 0, 2]])"
            ]
          },
          "metadata": {},
          "execution_count": 63
        }
      ]
    },
    {
      "cell_type": "code",
      "source": [
        "D_ = G1.degree\n",
        "D_ = dict(D_)\n",
        "sort_degree = sorted(D_.items(), key=lambda x: x[1], reverse=True)\n",
        "sort_degree"
      ],
      "metadata": {
        "colab": {
          "base_uri": "https://localhost:8080/"
        },
        "id": "GcxdPiE84eMY",
        "outputId": "38e2d820-9c04-42f6-ff5b-61f51dcda104"
      },
      "execution_count": 64,
      "outputs": [
        {
          "output_type": "execute_result",
          "data": {
            "text/plain": [
              "[('C', 3),\n",
              " ('D', 3),\n",
              " ('F', 3),\n",
              " ('A', 2),\n",
              " ('B', 2),\n",
              " ('G', 2),\n",
              " ('H', 2),\n",
              " ('E', 1)]"
            ]
          },
          "metadata": {},
          "execution_count": 64
        }
      ]
    },
    {
      "cell_type": "code",
      "source": [
        "L = D-A1\n",
        "L"
      ],
      "metadata": {
        "colab": {
          "base_uri": "https://localhost:8080/"
        },
        "id": "eoDKPb-HJIvE",
        "outputId": "eb605fee-b019-4552-974c-76b2166da5d7"
      },
      "execution_count": 65,
      "outputs": [
        {
          "output_type": "execute_result",
          "data": {
            "text/plain": [
              "array([[ 2, -1, -1,  0,  0,  0,  0,  0],\n",
              "       [-1,  2, -1,  0,  0,  0,  0,  0],\n",
              "       [-1, -1,  3, -1,  0,  0,  0,  0],\n",
              "       [ 0,  0, -1,  3, -1, -1,  0,  0],\n",
              "       [ 0,  0,  0, -1,  1,  0,  0,  0],\n",
              "       [ 0,  0,  0, -1,  0,  3, -1, -1],\n",
              "       [ 0,  0,  0,  0,  0, -1,  2, -1],\n",
              "       [ 0,  0,  0,  0,  0, -1, -1,  2]])"
            ]
          },
          "metadata": {},
          "execution_count": 65
        }
      ]
    },
    {
      "cell_type": "code",
      "source": [
        "from numpy import linalg as LA\n",
        "eigenvalues, eigenvectors = LA.eig(L)"
      ],
      "metadata": {
        "id": "T4FMco76K_2D"
      },
      "execution_count": 66,
      "outputs": []
    },
    {
      "cell_type": "code",
      "source": [
        "eigenvalues"
      ],
      "metadata": {
        "colab": {
          "base_uri": "https://localhost:8080/"
        },
        "id": "Vli7Vm58LDyt",
        "outputId": "aaaf83ed-fe5c-4ddf-9c41-13713789060a"
      },
      "execution_count": 67,
      "outputs": [
        {
          "output_type": "execute_result",
          "data": {
            "text/plain": [
              "array([ 4.81360650e+00,  3.73205081e+00,  3.00000000e+00,  2.52931658e+00,\n",
              "       -4.75194099e-16,  2.67949192e-01,  6.57076917e-01,  3.00000000e+00])"
            ]
          },
          "metadata": {},
          "execution_count": 67
        }
      ]
    },
    {
      "cell_type": "code",
      "source": [
        "eigenvectors"
      ],
      "metadata": {
        "colab": {
          "base_uri": "https://localhost:8080/"
        },
        "id": "wDVR-ZfJLEPT",
        "outputId": "3f533b1f-279f-4025-8cbc-e46a8172d8ce"
      },
      "execution_count": 68,
      "outputs": [
        {
          "output_type": "execute_result",
          "data": {
            "text/plain": [
              "array([[-1.30277317e-01,  2.29850422e-01,  7.07106781e-01,\n",
              "        -2.27992401e-01,  3.53553391e-01, -4.44036917e-01,\n",
              "        -2.36743079e-01,  5.89575264e-02],\n",
              "       [-1.30277317e-01,  2.29850422e-01, -7.07106781e-01,\n",
              "        -2.27992401e-01,  3.53553391e-01, -4.44036917e-01,\n",
              "        -2.36743079e-01, -5.89575264e-02],\n",
              "       [ 4.96826425e-01, -6.27963030e-01,  5.40765114e-16,\n",
              "         3.48672560e-01,  3.53553391e-01, -3.25057584e-01,\n",
              "        -8.11846665e-02,  1.15541920e-16],\n",
              "       [-6.40493000e-01, -2.36806647e-16, -2.57001561e-16,\n",
              "         6.20099196e-01,  3.53553391e-01,  2.36802237e-16,\n",
              "         2.83276729e-01,  2.84666916e-16],\n",
              "       [ 1.67949420e-01, -2.11559092e-16, -1.05873422e-16,\n",
              "        -4.05474709e-01,  3.53553391e-01,  1.80066342e-16,\n",
              "         8.26064920e-01, -2.59219401e-16],\n",
              "       [ 4.96826425e-01,  6.27963030e-01,  1.04779787e-15,\n",
              "         3.48672560e-01,  3.53553391e-01,  3.25057584e-01,\n",
              "        -8.11846665e-02,  4.24396370e-16],\n",
              "       [-1.30277317e-01, -2.29850422e-01, -3.18048416e-16,\n",
              "        -2.27992401e-01,  3.53553391e-01,  4.44036917e-01,\n",
              "        -2.36743079e-01, -7.04644598e-01],\n",
              "       [-1.30277317e-01, -2.29850422e-01, -5.00844902e-16,\n",
              "        -2.27992401e-01,  3.53553391e-01,  4.44036917e-01,\n",
              "        -2.36743079e-01,  7.04644598e-01]])"
            ]
          },
          "metadata": {},
          "execution_count": 68
        }
      ]
    },
    {
      "cell_type": "code",
      "source": [
        "max(eigenvalues)"
      ],
      "metadata": {
        "colab": {
          "base_uri": "https://localhost:8080/"
        },
        "id": "9YTm-jXRLGpE",
        "outputId": "1cf670e0-a4cd-4a80-f587-740a05deda21"
      },
      "execution_count": 69,
      "outputs": [
        {
          "output_type": "execute_result",
          "data": {
            "text/plain": [
              "4.813606502648331"
            ]
          },
          "metadata": {},
          "execution_count": 69
        }
      ]
    },
    {
      "cell_type": "code",
      "source": [
        "eigenvectors[:, np.argmax(eigenvalues)]"
      ],
      "metadata": {
        "colab": {
          "base_uri": "https://localhost:8080/"
        },
        "id": "xDoqbPrwLJjL",
        "outputId": "32dbf092-afa4-462b-ea95-41a9577a34ef"
      },
      "execution_count": 70,
      "outputs": [
        {
          "output_type": "execute_result",
          "data": {
            "text/plain": [
              "array([-0.13027732, -0.13027732,  0.49682642, -0.640493  ,  0.16794942,\n",
              "        0.49682642, -0.13027732, -0.13027732])"
            ]
          },
          "metadata": {},
          "execution_count": 70
        }
      ]
    },
    {
      "cell_type": "code",
      "source": [
        "connected_components = sorted(nx.connected_components(G1), key=len, reverse=True)\n",
        "\n",
        "for idx, component in enumerate(connected_components, start=1):\n",
        "    print(f\"Connected Component {idx} (Size: {len(component)}): {component}\")"
      ],
      "metadata": {
        "colab": {
          "base_uri": "https://localhost:8080/"
        },
        "id": "p4RrEpTjLLsf",
        "outputId": "90497643-b658-4b42-b947-38b1f1b5703c"
      },
      "execution_count": 72,
      "outputs": [
        {
          "output_type": "stream",
          "name": "stdout",
          "text": [
            "Connected Component 1 (Size: 8): {'G', 'B', 'H', 'C', 'F', 'E', 'D', 'A'}\n"
          ]
        }
      ]
    },
    {
      "cell_type": "code",
      "source": [
        "edges_to_remove = [('C', 'D'), ('D', 'F')]\n",
        "G1.remove_edges_from(edges_to_remove)\n",
        "G2 = G1.copy()\n",
        "print(\"Nodes in G2':\", G2.nodes())\n",
        "print(\"Edges in G2':\", G2.edges())"
      ],
      "metadata": {
        "colab": {
          "base_uri": "https://localhost:8080/"
        },
        "id": "2Ahe-wWnLUCv",
        "outputId": "928ef50f-0b59-4e9c-dba1-34cd11926813"
      },
      "execution_count": 75,
      "outputs": [
        {
          "output_type": "stream",
          "name": "stdout",
          "text": [
            "Nodes in G2': ['A', 'B', 'C', 'D', 'E', 'F', 'G', 'H']\n",
            "Edges in G2': [('A', 'B'), ('A', 'C'), ('B', 'C'), ('D', 'E'), ('F', 'G'), ('F', 'H'), ('G', 'H')]\n"
          ]
        }
      ]
    },
    {
      "cell_type": "code",
      "source": [
        "\n",
        "connected_components = list(nx.connected_components(G2))\n",
        "\n",
        "\n",
        "for idx, component in enumerate(connected_components, start=1):\n",
        "    print(f\"Connected Component {idx}: {component}\")"
      ],
      "metadata": {
        "colab": {
          "base_uri": "https://localhost:8080/"
        },
        "id": "OmjplHtROVAc",
        "outputId": "d4a80916-e13a-4226-c0c2-5b2c3fb33c15"
      },
      "execution_count": 76,
      "outputs": [
        {
          "output_type": "stream",
          "name": "stdout",
          "text": [
            "Connected Component 1: {'C', 'A', 'B'}\n",
            "Connected Component 2: {'E', 'D'}\n",
            "Connected Component 3: {'G', 'F', 'H'}\n"
          ]
        }
      ]
    }
  ]
}